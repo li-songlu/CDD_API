{
 "cells": [
  {
   "cell_type": "markdown",
   "metadata": {},
   "source": [
    "# Bulk Import of Data via Files into CDD"
   ]
  },
  {
   "cell_type": "code",
   "execution_count": 1,
   "metadata": {},
   "outputs": [],
   "source": [
    "import requests\n",
    "import json\n",
    "import pandas as pd\n",
    "import time\n",
    "import yaml"
   ]
  },
  {
   "cell_type": "code",
   "execution_count": 2,
   "metadata": {},
   "outputs": [],
   "source": [
    "# load the API token\n",
    "\n",
    "with open('config.yaml') as f:\n",
    "    # use safe_load instead of load\n",
    "    mytoken = yaml.safe_load(f)"
   ]
  },
  {
   "cell_type": "code",
   "execution_count": 3,
   "metadata": {},
   "outputs": [],
   "source": [
    "# transfer original file format from xlsx to csv\n",
    "\n",
    "xlsx_path = '/Users/songluli/Documents/CDD_API/KRAS_ADME/'\n",
    "file_xlsx_name = 'ADME-SLC-LogP-220211-1.xlsx'\n",
    "file_xlsx = pd.read_excel(xlsx_path + file_xlsx_name)\n",
    "file_csv_name = file_xlsx_name[:-5]+'.csv'\n",
    "file_xlsx.to_csv (xlsx_path + file_csv_name, index = None, header=True)"
   ]
  },
  {
   "cell_type": "code",
   "execution_count": 4,
   "metadata": {},
   "outputs": [],
   "source": [
    "# save the mapping template and toke before importing with API\n",
    "# mapping template: ADME-SLC-LM_SL, ADME-SLC-LogP_SL, ADME-SLC-Solubility_SL\n",
    "\n",
    "# Upload a Data File and Assign Mapping Parameters\n",
    "headers = mytoken['headers']\n",
    "files = {'file': open(xlsx_path + file_csv_name, 'rb')}\n",
    "url = 'https://app.collaborativedrug.com/api/v1/vaults/4686/slurps'\n",
    "data = {'project': 'KRAS', \n",
    "        'mapping_template':'ADME-SLC-LogP_SL',\n",
    "        'runs': {'run_date': '2022-02-12', 'place' : 'Pharmaron', 'person' : 'Songlu Li', 'conditions' : ''}, \n",
    "        'autoreject': 'true'} \n",
    "\n",
    "\n",
    "# Check Import Status\n",
    "\n",
    "response_post = requests.post(url, headers=headers, data={'json': json.dumps(data)}, files=files)\n",
    "\n",
    "# View Run Information for the Import\n",
    "\n",
    "response_request = requests.request(\"GET\",\"https://app.collaborativedrug.com/api/v1/vaults/4686/slurps/\"+str(response_post.json()['id']),headers=headers)"
   ]
  },
  {
   "cell_type": "code",
   "execution_count": null,
   "metadata": {},
   "outputs": [],
   "source": [
    "# check every 30s and end the processing session after 10 mins\n",
    "\n",
    "timeout = 600  # [seconds]\n",
    "check_period = 30\n",
    "start_time = time.time()\n",
    "\n",
    "while True:\n",
    "    current_time = time.time()\n",
    "    elapsed_time = current_time - start_time    \n",
    "    response_request = requests.request(\"GET\",\"https://app.collaborativedrug.com/api/v1/vaults/4686/slurps/\"+str(response_post.json()['id']),headers=headers)\n",
    "    \n",
    "    if response_request.json()['state'] == 'committed':\n",
    "        print('total_records: ' + str(response_request.json()['total_records']) + ','\n",
    "            'records_committed: ' + str(response_request.json()['records_committed']),\n",
    "            f'running time: {current_time - start_time}')\n",
    "        break\n",
    "    \n",
    "    elif elapsed_time >= timeout:\n",
    "        print(str(response_request.json()['id']) + 'Upload failed due to long running time, chat with DS team')\n",
    "        break\n",
    "\n",
    "    time.sleep(check_period)"
   ]
  }
 ],
 "metadata": {
  "interpreter": {
   "hash": "31f2aee4e71d21fbe5cf8b01ff0e069b9275f58929596ceb00d14d90e3e16cd6"
  },
  "kernelspec": {
   "display_name": "Python 3.8.9 64-bit",
   "language": "python",
   "name": "python3"
  },
  "language_info": {
   "codemirror_mode": {
    "name": "ipython",
    "version": 3
   },
   "file_extension": ".py",
   "mimetype": "text/x-python",
   "name": "python",
   "nbconvert_exporter": "python",
   "pygments_lexer": "ipython3",
   "version": "3.9.7"
  },
  "orig_nbformat": 4
 },
 "nbformat": 4,
 "nbformat_minor": 2
}
